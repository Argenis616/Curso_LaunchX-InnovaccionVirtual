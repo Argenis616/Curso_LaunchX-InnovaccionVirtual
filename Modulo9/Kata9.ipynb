{
 "cells": [
  {
   "cell_type": "markdown",
   "metadata": {},
   "source": [
    "# Ejercicio 1: Trabajar con argumentos en funciones"
   ]
  },
  {
   "cell_type": "code",
   "execution_count": 16,
   "metadata": {},
   "outputs": [],
   "source": [
    "def lectura_combustible(combustible_uno, combustible_dos, combustible_tres):\n",
    "    promedio = (combustible_uno  +  combustible_dos + combustible_tres) / 3\n",
    "    informe = f'''\n",
    "    primer tanque combustible: {combustible_uno}\n",
    "    segundo tanque combustible {combustible_dos}\n",
    "    tercer tanque de combustible {combustible_tres}\n",
    "    promedio del combustible total de la nava {promedio}'''\n",
    "    return informe"
   ]
  },
  {
   "cell_type": "code",
   "execution_count": 17,
   "metadata": {},
   "outputs": [
    {
     "name": "stdout",
     "output_type": "stream",
     "text": [
      "\n",
      "    primer tanque combustible: 10\n",
      "    segundo tanque combustible 2\n",
      "    tercer tanque de combustible 15\n",
      "    promedio del combustible total de la nava 9.0\n"
     ]
    }
   ],
   "source": [
    "print(lectura_combustible(10,2,15))"
   ]
  },
  {
   "cell_type": "code",
   "execution_count": 18,
   "metadata": {},
   "outputs": [],
   "source": [
    "def promedio(combustible):\n",
    "    promedio_toal = 0\n",
    "    for elem in combustible:\n",
    "        promedio_toal += elem\n",
    "    promedio_toal /= len(combustible)\n",
    "    return promedio_toal "
   ]
  },
  {
   "cell_type": "code",
   "execution_count": 19,
   "metadata": {},
   "outputs": [
    {
     "name": "stdout",
     "output_type": "stream",
     "text": [
      "\n",
      "    primer tanque combustible: 10\n",
      "    segundo tanque combustible 2\n",
      "    tercer tanque de combustible 15\n",
      "    promedio del combustible total de la nava 9.0\n"
     ]
    }
   ],
   "source": [
    "def lectura_combustible(combustible_uno, combustible_dos, combustible_tres):\n",
    "    \n",
    "    informe = f'''\n",
    "    primer tanque combustible: {combustible_uno}\n",
    "    segundo tanque combustible {combustible_dos}\n",
    "    tercer tanque de combustible {combustible_tres}\n",
    "    promedio del combustible total de la nava {promedio([combustible_uno, combustible_dos, combustible_tres])}'''\n",
    "    return informe\n",
    "print(lectura_combustible(10,2,15))"
   ]
  },
  {
   "cell_type": "markdown",
   "metadata": {},
   "source": [
    "# Ejercicio : Trabajar con argumentos de palabras clave en funciones"
   ]
  },
  {
   "cell_type": "code",
   "execution_count": 20,
   "metadata": {},
   "outputs": [
    {
     "name": "stdout",
     "output_type": "stream",
     "text": [
      "\n",
      "    hora de prelanzamiento: 10\n",
      "    timepo de vuelo: 11\n",
      "    detino: alfas centauri\n",
      "    tanque externo: 3\n",
      "    tanque interno: 20 \n"
     ]
    }
   ],
   "source": [
    "def informe(hora_de_prelanzamiento,tiempo_de_vuelo,destino,tanque_externo,tanque_interno):\n",
    "    reporte = f'''\n",
    "    hora de prelanzamiento: {hora_de_prelanzamiento}\n",
    "    timepo de vuelo: {tiempo_de_vuelo}\n",
    "    detino: {destino}\n",
    "    tanque externo: {tanque_externo}\n",
    "    tanque interno: {tanque_interno} '''\n",
    "    return reporte\n",
    "print(informe(10,11,\"alfas centauri\",3,20))"
   ]
  },
  {
   "cell_type": "code",
   "execution_count": 21,
   "metadata": {},
   "outputs": [
    {
     "name": "stdout",
     "output_type": "stream",
     "text": [
      "\n",
      "    timepo de vuelo total : 15 minutos\n",
      "    detino: alfas centauri\n",
      "    restante de combustible: 23 \n"
     ]
    }
   ],
   "source": [
    "def informe(destino,*minutes,**fuel_reservoirs):\n",
    "    reporte = f'''\n",
    "    timepo de vuelo total : {sum(minutes)} minutos\n",
    "    detino: {destino}\n",
    "    restante de combustible: {sum(fuel_reservoirs.values())} '''\n",
    "    return reporte\n",
    "print(informe(\"alfas centauri\",1,2,3,4,5,tanuqe1 =3, tanque2 =20))"
   ]
  },
  {
   "cell_type": "code",
   "execution_count": 22,
   "metadata": {},
   "outputs": [
    {
     "name": "stdout",
     "output_type": "stream",
     "text": [
      "\n",
      "    timepo de vuelo total : 15 minutos\n",
      "    detino: alfas centauri\n",
      "    combustible de cada tanque: {'tanuqe1': 3, 'tanque2': 20}\n"
     ]
    }
   ],
   "source": [
    "def informe(destino,*minutes,**fuel_reservoirs):\n",
    "    reporte = f'''\n",
    "    timepo de vuelo total : {sum(minutes)} minutos\n",
    "    detino: {destino}\n",
    "    combustible de cada tanque: {fuel_reservoirs}'''\n",
    "    return reporte\n",
    "print(informe(\"alfas centauri\",1,2,3,4,5,tanuqe1 =3, tanque2 =20))"
   ]
  }
 ],
 "metadata": {
  "interpreter": {
   "hash": "aee8b7b246df8f9039afb4144a1f6fd8d2ca17a180786b69acc140d282b71a49"
  },
  "kernelspec": {
   "display_name": "Python 3.9.7 64-bit",
   "language": "python",
   "name": "python3"
  },
  "language_info": {
   "codemirror_mode": {
    "name": "ipython",
    "version": 3
   },
   "file_extension": ".py",
   "mimetype": "text/x-python",
   "name": "python",
   "nbconvert_exporter": "python",
   "pygments_lexer": "ipython3",
   "version": "3.9.7"
  },
  "orig_nbformat": 4
 },
 "nbformat": 4,
 "nbformat_minor": 2
}
